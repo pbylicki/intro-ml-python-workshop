{
 "cells": [
  {
   "cell_type": "markdown",
   "metadata": {},
   "source": [
    "# Part 3: K-means clustering"
   ]
  },
  {
   "cell_type": "markdown",
   "metadata": {},
   "source": [
    "### Dataset\n",
    "In this exercise we will use the dataset of Uber pickups in New York City area during September 2014 that can be found on https://github.com/fivethirtyeight/uber-tlc-foil-response/tree/master/uber-trip-data"
   ]
  },
  {
   "cell_type": "code",
   "execution_count": null,
   "metadata": {
    "collapsed": false
   },
   "outputs": [],
   "source": [
    "import pandas as pd\n",
    "df = pd.read_csv('data/uber-raw-data-sep14.csv')\n",
    "print(len(df))\n",
    "print(df.head())\n",
    "print(df.dtypes)"
   ]
  },
  {
   "cell_type": "markdown",
   "metadata": {},
   "source": [
    "We can cut out the pickups that happened outside of Manhattan, give or take."
   ]
  },
  {
   "cell_type": "code",
   "execution_count": null,
   "metadata": {
    "collapsed": false
   },
   "outputs": [],
   "source": [
    "df = df[(df['Lon'] > -74.02) & (df['Lon'] < -73.94)]\n",
    "df = df[(df['Lat'] > 40.7) & (df['Lat'] < 40.8)]\n",
    "len(df)"
   ]
  },
  {
   "cell_type": "markdown",
   "metadata": {},
   "source": [
    "To split Date/time Column into two columns."
   ]
  },
  {
   "cell_type": "code",
   "execution_count": null,
   "metadata": {
    "collapsed": true
   },
   "outputs": [],
   "source": [
    "df['Date'], df['Time'] = df['Date/Time'].str.split(' ').str\n",
    "df = df.drop(labels=['Date/Time', 'Base'], axis=1)"
   ]
  },
  {
   "cell_type": "markdown",
   "metadata": {},
   "source": [
    "To convert string columns into datetime-specific types"
   ]
  },
  {
   "cell_type": "code",
   "execution_count": null,
   "metadata": {
    "collapsed": true
   },
   "outputs": [],
   "source": [
    "df['Date'] = pd.to_datetime(df['Date'], format=\"%m/%d/%Y\")\n",
    "df['Time'] = pd.to_timedelta(df['Time'])"
   ]
  },
  {
   "cell_type": "markdown",
   "metadata": {},
   "source": [
    "To create new column with weekday number based on the date"
   ]
  },
  {
   "cell_type": "code",
   "execution_count": null,
   "metadata": {
    "collapsed": false
   },
   "outputs": [],
   "source": [
    "df['Weekday'] = df['Date'].dt.dayofweek  # 0-6\n",
    "print(df.dtypes)\n",
    "df.head()"
   ]
  },
  {
   "cell_type": "markdown",
   "metadata": {},
   "source": [
    "Now we can filter dataset to get pickups from specific days, hours or weekdays.\n",
    "\n",
    "To get pickups that happened on weekend mornings"
   ]
  },
  {
   "cell_type": "code",
   "execution_count": null,
   "metadata": {
    "collapsed": false
   },
   "outputs": [],
   "source": [
    "X = df[(df['Time'] > '08:00:00') & (df['Time'] < '10:00:00') & (df['Weekday'] >= 5)]\n",
    "X = X[['Lon', 'Lat']]\n",
    "len(X)"
   ]
  },
  {
   "cell_type": "markdown",
   "metadata": {},
   "source": [
    "With the data prepared we can train the model to calculate clustering of pickup points. Clustering algorithms cannot be scored the same as supervised learning algorithms, we do not have labelled data. Therefore we do not split our data to training/testing datasets.\n",
    "\n",
    "In this case, we can skip features preprocessing because Latitude and Longitude values are in the same unit. Otherwise we would need to scale them to avoid bias (features with large numerical values would have greater impact on results).\n",
    "\n",
    "There is no perfect method for selecting the number of clusters, so we can start with arbitrary number and then modify it based on visualizing the results."
   ]
  },
  {
   "cell_type": "code",
   "execution_count": null,
   "metadata": {
    "collapsed": false
   },
   "outputs": [],
   "source": [
    "from sklearn.cluster import KMeans\n",
    "\n",
    "model = KMeans(n_clusters=7)\n",
    "model.fit(X)\n",
    "\n",
    "coords = pd.DataFrame.from_records([(40.72143, -73.98847)], columns=['Lat', 'Lon'])\n",
    "print(coords, model.predict(coords))"
   ]
  },
  {
   "cell_type": "markdown",
   "metadata": {},
   "source": [
    "To enable inline matplotlib visualizations"
   ]
  },
  {
   "cell_type": "code",
   "execution_count": null,
   "metadata": {
    "collapsed": false
   },
   "outputs": [],
   "source": [
    "%matplotlib inline"
   ]
  },
  {
   "cell_type": "markdown",
   "metadata": {},
   "source": [
    "To import matplotlib and set plots style"
   ]
  },
  {
   "cell_type": "code",
   "execution_count": null,
   "metadata": {
    "collapsed": true
   },
   "outputs": [],
   "source": [
    "import matplotlib.pyplot as plt\n",
    "import matplotlib\n",
    "\n",
    "matplotlib.style.use('ggplot')"
   ]
  },
  {
   "cell_type": "markdown",
   "metadata": {},
   "source": [
    "To create a scatter plot with cluster centers and pickup points grouped by their cluster"
   ]
  },
  {
   "cell_type": "code",
   "execution_count": null,
   "metadata": {
    "collapsed": false
   },
   "outputs": [],
   "source": [
    "centers = model.cluster_centers_\n",
    "# To set specific color for each point, we must create a list of color values that contains color value for each point\n",
    "colors = ['b', 'g', 'r', 'c', 'm', 'y', 'k']\n",
    "point_colors = [colors[label] for label in model.labels_]\n",
    "\n",
    "# to display two datasets on one plot we must create the plot as subplot on the figure\n",
    "# and then create two scatter plots using the same axes\n",
    "fig = plt.figure(figsize=(10, 7))\n",
    "ax = fig.add_subplot(111)\n",
    "ax.scatter(X.Lon, X.Lat, marker='.', c=point_colors, alpha=0.8)\n",
    "ax.scatter(centers[:, 0], centers[:, 1], marker='x', c='k', alpha=0.8, linewidths=3, s=169)\n",
    "plt.show()"
   ]
  },
  {
   "cell_type": "markdown",
   "metadata": {},
   "source": [
    "Now we can create a function to calculate clustering and visualize cluster centers for different timeframes."
   ]
  },
  {
   "cell_type": "code",
   "execution_count": null,
   "metadata": {
    "collapsed": true
   },
   "outputs": [],
   "source": [
    "def show_clusters(X, num_clusters=7):\n",
    "    X = X[['Lon', 'Lat']]\n",
    "    print(len(X), \"records\")\n",
    "    model = KMeans(n_clusters=num_clusters)\n",
    "    model.fit(X)\n",
    "    centers = model.cluster_centers_\n",
    "    # We can change the default size of generated plot\n",
    "    fig = plt.figure(figsize=(10, 7))\n",
    "    ax = fig.add_subplot(111)\n",
    "    ax.scatter(X.Lon, X.Lat, marker='.', c='b', alpha=0.8)\n",
    "    ax.scatter(centers[:, 0], centers[:, 1], marker='x', c='k', alpha=0.8, linewidths=3, s=169)\n",
    "    plt.show()"
   ]
  },
  {
   "cell_type": "markdown",
   "metadata": {},
   "source": [
    "Saturday night"
   ]
  },
  {
   "cell_type": "code",
   "execution_count": null,
   "metadata": {
    "collapsed": false
   },
   "outputs": [],
   "source": [
    "show_clusters(df[(df['Time'] > '22:00:00') & (df['Weekday'] == 5)])"
   ]
  },
  {
   "cell_type": "markdown",
   "metadata": {},
   "source": [
    "Monday afternoon"
   ]
  },
  {
   "cell_type": "code",
   "execution_count": null,
   "metadata": {
    "collapsed": false
   },
   "outputs": [],
   "source": [
    "show_clusters(df[(df['Time'] > '16:00:00') & (df['Time'] < '18:00:00') & (df['Weekday'] == 0)])"
   ]
  },
  {
   "cell_type": "markdown",
   "metadata": {},
   "source": [
    "To help us understand the results we can display cluster centers on map using Folium package\n",
    "\n",
    "To create a function that will calculate clustering and visualize cluster centers for different timeframes on interactive New York City map."
   ]
  },
  {
   "cell_type": "code",
   "execution_count": null,
   "metadata": {
    "collapsed": false
   },
   "outputs": [],
   "source": [
    "import folium\n",
    "from IPython.display import display\n",
    "\n",
    "def show_clusters_on_nyc_map(X, num_clusters=7):\n",
    "    X = X[['Lon', 'Lat']]\n",
    "    print(len(X), \"records\")\n",
    "    model = KMeans(n_clusters=num_clusters)\n",
    "    model.fit(X)\n",
    "    centers = model.cluster_centers_\n",
    "    #initialize the map\n",
    "    nyc_map = folium.Map(location=[40.75, -73.98], tiles='Stamen Toner', zoom_start=12)\n",
    "    # Add marker for all centroids\n",
    "    for centroid in centers:\n",
    "        folium.Marker([centroid[1], centroid[0]],\n",
    "                      icon=folium.Icon(color='red', icon='flag'),\n",
    "                     popup=str(centroid)).add_to(nyc_map)\n",
    "    # display map inline\n",
    "    display(nyc_map)"
   ]
  },
  {
   "cell_type": "markdown",
   "metadata": {},
   "source": [
    "Display Monday afternoon cluster centers"
   ]
  },
  {
   "cell_type": "code",
   "execution_count": null,
   "metadata": {
    "collapsed": false
   },
   "outputs": [],
   "source": [
    "show_clusters_on_nyc_map(df[(df['Time'] > '16:00:00') & (df['Time'] < '18:00:00') & (df['Weekday'] == 0)])"
   ]
  },
  {
   "cell_type": "markdown",
   "metadata": {},
   "source": [
    "Display Saturday night cluster centers"
   ]
  },
  {
   "cell_type": "code",
   "execution_count": null,
   "metadata": {
    "collapsed": false
   },
   "outputs": [],
   "source": [
    "show_clusters_on_nyc_map(df[(df['Time'] > '22:00:00') & (df['Weekday'] == 5)])"
   ]
  },
  {
   "cell_type": "markdown",
   "metadata": {},
   "source": [
    "Display Weekend mornings cluster centers"
   ]
  },
  {
   "cell_type": "code",
   "execution_count": null,
   "metadata": {
    "collapsed": false
   },
   "outputs": [],
   "source": [
    "show_clusters_on_nyc_map(df[(df['Time'] > '08:00:00') & (df['Time'] < '10:00:00') & (df['Weekday'] >= 5)])"
   ]
  },
  {
   "cell_type": "code",
   "execution_count": null,
   "metadata": {
    "collapsed": true
   },
   "outputs": [],
   "source": []
  }
 ],
 "metadata": {
  "kernelspec": {
   "display_name": "Python 3",
   "language": "python",
   "name": "python3"
  },
  "language_info": {
   "codemirror_mode": {
    "name": "ipython",
    "version": 3
   },
   "file_extension": ".py",
   "mimetype": "text/x-python",
   "name": "python",
   "nbconvert_exporter": "python",
   "pygments_lexer": "ipython3",
   "version": "3.5.2"
  }
 },
 "nbformat": 4,
 "nbformat_minor": 1
}
