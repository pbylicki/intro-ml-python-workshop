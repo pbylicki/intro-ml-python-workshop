{
 "cells": [
  {
   "cell_type": "markdown",
   "metadata": {},
   "source": [
    "# Part 2: Logistic Regression"
   ]
  },
  {
   "cell_type": "markdown",
   "metadata": {
    "collapsed": true
   },
   "source": [
    "### Dataset\n",
    "We will use the airline reviews dataset from https://github.com/quankiquanki/skytrax-reviews-dataset"
   ]
  },
  {
   "cell_type": "code",
   "execution_count": null,
   "metadata": {
    "collapsed": false,
    "scrolled": true
   },
   "outputs": [],
   "source": [
    "import pandas as pd\n",
    "df = pd.read_csv('data/airline.csv')\n",
    "print(df.dtypes)\n",
    "df.head()"
   ]
  },
  {
   "cell_type": "markdown",
   "metadata": {
    "collapsed": true
   },
   "source": [
    "To get total number of rows and check how much missing data we have."
   ]
  },
  {
   "cell_type": "code",
   "execution_count": null,
   "metadata": {
    "collapsed": false
   },
   "outputs": [],
   "source": [
    "print(\"All rows: \", len(df))\n",
    "print(df.notnull().sum(axis=0))"
   ]
  },
  {
   "cell_type": "markdown",
   "metadata": {},
   "source": [
    "### Model\n",
    "We want to build a model that would classify airline review as positive or negative based only on its content.\n",
    "\n",
    "To do that, we need to extract feature data and class labels from dataset."
   ]
  },
  {
   "cell_type": "code",
   "execution_count": null,
   "metadata": {
    "collapsed": true
   },
   "outputs": [],
   "source": [
    "y = df['recommended']\n",
    "X = df['content']"
   ]
  },
  {
   "cell_type": "markdown",
   "metadata": {},
   "source": [
    "Logistic regression classifier requires numerical features - we must transform review content into numerical representation. We can use Bag-of-words representation - each review will be transformed into a numerical vector and each element of the vector will indicate if the word associated with this element is present in this review.\n",
    "\n",
    "Let's say our dataset has three sentences:\n",
    "* I am Pawel.\n",
    "* He likes Python.\n",
    "* Students learn a lot.\n",
    "\n",
    "Then we can represent the vocabulary of this dataset as a following vector:\n",
    "```\n",
    "[I, am, Pawel, He, likes, Python, Students, learn, a, lot]\n",
    "```\n",
    "Every sentence can then be transformed into a vector with elements set to 1 if the word is present (no matter how many times) in the sentence or 0 otherwise.\n",
    "\n",
    "For example:\n",
    "```\n",
    "I am Pawel => [1, 1, 1, 0, 0, 0, 0, 0, 0, 0]\n",
    "Students learn Python => [0, 0, 0, 0, 0, 1, 1, 1, 0, 0]\n",
    "```"
   ]
  },
  {
   "cell_type": "code",
   "execution_count": null,
   "metadata": {
    "collapsed": false
   },
   "outputs": [],
   "source": [
    "from sklearn.model_selection import train_test_split\n",
    "\n",
    "X_train, X_test, y_train, y_test = train_test_split(X, y, test_size=0.3, random_state=5)"
   ]
  },
  {
   "cell_type": "markdown",
   "metadata": {},
   "source": [
    "To transform review content into numerical features we need to create and train Count Vectorizer transformer"
   ]
  },
  {
   "cell_type": "code",
   "execution_count": null,
   "metadata": {
    "collapsed": true
   },
   "outputs": [],
   "source": [
    "from sklearn.feature_extraction.text import CountVectorizer\n",
    "\n",
    "vectorizer = CountVectorizer(binary=True)\n",
    "X_train_transformed = vectorizer.fit_transform(X_train)"
   ]
  },
  {
   "cell_type": "markdown",
   "metadata": {},
   "source": [
    "Now we can use it to transform text into a _sparse_ vector of binary values."
   ]
  },
  {
   "cell_type": "code",
   "execution_count": null,
   "metadata": {
    "collapsed": false
   },
   "outputs": [],
   "source": [
    "print(vectorizer.transform([\"He likes Python.\"]))\n",
    "vectorizer.transform([\"He likes Python.\"])"
   ]
  },
  {
   "cell_type": "markdown",
   "metadata": {},
   "source": [
    "To train a logistic regression model on transformed data"
   ]
  },
  {
   "cell_type": "code",
   "execution_count": null,
   "metadata": {
    "collapsed": false
   },
   "outputs": [],
   "source": [
    "from sklearn.linear_model import LogisticRegression\n",
    "\n",
    "model = LogisticRegression()\n",
    "model.fit(X_train_transformed, y_train)"
   ]
  },
  {
   "cell_type": "markdown",
   "metadata": {},
   "source": [
    "To score trained model against transformed testing data"
   ]
  },
  {
   "cell_type": "code",
   "execution_count": null,
   "metadata": {
    "collapsed": false
   },
   "outputs": [],
   "source": [
    "X_test_transformed = vectorizer.transform(X_test)\n",
    "print(\"Score: \", model.score(X_test_transformed, y_test))"
   ]
  },
  {
   "cell_type": "markdown",
   "metadata": {},
   "source": [
    "To use the model for classification of new reviews (What are the problems with this model? How can we try to fix them?)"
   ]
  },
  {
   "cell_type": "code",
   "execution_count": null,
   "metadata": {
    "collapsed": false
   },
   "outputs": [],
   "source": [
    "def predict(text_content):\n",
    "    vector = vectorizer.transform([text_content])\n",
    "    return text_content, \"positive\" if model.predict(vector)[0] else \"negative\", model.predict_proba(vector)\n",
    "\n",
    "print(predict(\"The flight was quite awesome\"))\n",
    "print(predict(\"It was expensive and drinks were awful\"))\n",
    "print(predict(\"The stewardess spilled champagne all over me!\"))\n",
    "print(predict(\"lol\"))\n",
    "print(predict(\"Rewelacja. Najwspanialszy lot mojego życia!\"))\n",
    "print(predict(\"Rewelacja. Najwspanialsza podróż mojego życia!\"))\n",
    "print(predict(\"Dramat. Nigdy więcej nie polecę tymi liniami! :(\"))"
   ]
  },
  {
   "cell_type": "markdown",
   "metadata": {},
   "source": [
    "Instead of using single words, we can use n-grams which are sequences of words, preserving order from the source text. This approach allows model to recognize more complicated phrases but is more computationally intensive.\n",
    "\n",
    "Below we recreate transformer and model using bigrams (two-element sequences of words). You should notice that training the model takes more time than before."
   ]
  },
  {
   "cell_type": "code",
   "execution_count": null,
   "metadata": {
    "collapsed": false
   },
   "outputs": [],
   "source": [
    "vectorizer_bigrams = CountVectorizer(binary=True, ngram_range=(1, 2))\n",
    "X_train_transformed_b = vectorizer_bigrams.fit_transform(X_train)\n",
    "model_bigrams = LogisticRegression()\n",
    "model_bigrams.fit(X_train_transformed_b, y_train)\n",
    "X_test_transformed_b = vectorizer_bigrams.transform(X_test)\n",
    "print(\"Score: \", model_bigrams.score(X_test_transformed_b, y_test))"
   ]
  },
  {
   "cell_type": "markdown",
   "metadata": {},
   "source": [
    "Trained model and transformer can be then serialized and saved to file using Python serialization module - Pickle. This way they can be used outside of this session to classify new reviews without access to training data. \n",
    "\n",
    "Keep in mind that model may be not loaded properly from the file if you will use different Python or Scikit-learn version."
   ]
  },
  {
   "cell_type": "code",
   "execution_count": null,
   "metadata": {
    "collapsed": true
   },
   "outputs": [],
   "source": [
    "import pickle\n",
    "\n",
    "MODEL_PATH = \"log_reg_model.pkl\"\n",
    "VECTORIZER_PATH = \"vectorizer.pkl\"\n",
    "\n",
    "pickle.dump(vectorizer_bigrams, open(VECTORIZER_PATH, 'wb'))\n",
    "pickle.dump(model_bigrams, open(MODEL_PATH, 'wb'))"
   ]
  },
  {
   "cell_type": "markdown",
   "metadata": {},
   "source": [
    "To load the model and check if we get the same score."
   ]
  },
  {
   "cell_type": "code",
   "execution_count": null,
   "metadata": {
    "collapsed": false
   },
   "outputs": [],
   "source": [
    "loaded_vectorizer = pickle.load(open(VECTORIZER_PATH, 'rb'))\n",
    "loaded_model = pickle.load(open(MODEL_PATH, 'rb'))\n",
    "\n",
    "X_test_transformed_b_new = loaded_vectorizer.transform(X_test)\n",
    "print(\"Score: \", loaded_model.score(X_test_transformed_b_new, y_test))"
   ]
  },
  {
   "cell_type": "code",
   "execution_count": null,
   "metadata": {
    "collapsed": true
   },
   "outputs": [],
   "source": []
  }
 ],
 "metadata": {
  "kernelspec": {
   "display_name": "Python 3",
   "language": "python",
   "name": "python3"
  },
  "language_info": {
   "codemirror_mode": {
    "name": "ipython",
    "version": 3
   },
   "file_extension": ".py",
   "mimetype": "text/x-python",
   "name": "python",
   "nbconvert_exporter": "python",
   "pygments_lexer": "ipython3",
   "version": "3.5.2"
  }
 },
 "nbformat": 4,
 "nbformat_minor": 1
}
